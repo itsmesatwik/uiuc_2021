{
 "cells": [
  {
   "cell_type": "markdown",
   "metadata": {},
   "source": [
    "# SQL\n",
    "SQL can be a powerful asset as a Data Scientist. In this week's Notebook, we will explore how we can use SQLAlchemy and Pandas to efficiently use SQL databases in our projects."
   ]
  },
  {
   "cell_type": "code",
   "execution_count": null,
   "metadata": {},
   "outputs": [],
   "source": [
    "import sqlalchemy\n",
    "from sqlalchemy import (Table, Column, Integer, String, Float, Date,\n",
    "                        MetaData, create_engine)\n",
    "from sqlalchemy.sql import select\n",
    "from datetime import date"
   ]
  },
  {
   "cell_type": "code",
   "execution_count": null,
   "metadata": {},
   "outputs": [],
   "source": [
    "# Setup a connection to our toy SQLite database\n",
    "engine = create_engine('sqlite:///test.db')"
   ]
  },
  {
   "cell_type": "markdown",
   "metadata": {},
   "source": [
    "   ### Example 1: SQLAlchemy as a SQL Engine\n",
    "   This is just to show the \"core\" SQLAlchemy. I don't suggest you necessarily do things this way..."
   ]
  },
  {
   "cell_type": "code",
   "execution_count": null,
   "metadata": {},
   "outputs": [],
   "source": [
    "metadata = MetaData()\n",
    "\n",
    "# Define SQL Schema\n",
    "students = sqlalchemy.Table('student', metadata,\n",
    "    Column('netid', String(8), primary_key=True),\n",
    "    Column('first_name', String(100)),\n",
    "    Column('last_name', String(100)))\n",
    "\n",
    "# Create Table in our database\n",
    "query = students.create(engine, checkfirst=True)"
   ]
  },
  {
   "cell_type": "code",
   "execution_count": null,
   "metadata": {},
   "outputs": [],
   "source": [
    "# Construct an insertion query\n",
    "insert_query = students.insert().values(netid=\"bcongdo2\",\n",
    "                                        first_name=\"Ben\",\n",
    "                                        last_name=\"Congdon\")\n",
    "\n",
    "# The Query we will execute\n",
    "print insert_query.compile()\n",
    "# The parameters to this query\n",
    "print insert_query.compile().params"
   ]
  },
  {
   "cell_type": "code",
   "execution_count": null,
   "metadata": {},
   "outputs": [],
   "source": [
    "# Actually run the query\n",
    "connection = engine.connect()\n",
    "connection.execute(insert_query)\n",
    "\n",
    "# Run some more insertions\n",
    "connection.execute(students.insert(), [\n",
    "        {'netid': 'abc1', 'first_name': 'john', 'last_name': 'doe'},\n",
    "        {'netid': 'def2', 'first_name': 'jane', 'last_name': 'doe'}\n",
    "    ])"
   ]
  },
  {
   "cell_type": "code",
   "execution_count": null,
   "metadata": {},
   "outputs": [],
   "source": [
    "# Simple \"SELECT\"\n",
    "s = select([students]) # Equivilant to \"SELECT * FROM students\"\n",
    "result = connection.execute(s)\n",
    "for i in result:\n",
    "    print i"
   ]
  },
  {
   "cell_type": "code",
   "execution_count": null,
   "metadata": {},
   "outputs": [],
   "source": [
    "# \"SELECT\" with parameters\n",
    "# Equivilant to \"SELECT netid FROM students WHERE first_name = \"Ben\"\"\n",
    "s = select([students.c.netid]).where(students.c.first_name == \"Ben\")\n",
    "for i in connection.execute(s):\n",
    "    print i"
   ]
  },
  {
   "cell_type": "markdown",
   "metadata": {},
   "source": [
    "Interested in learning more? Check out [this](http://docs.sqlalchemy.org/en/latest/core/tutorial.html) SQLAlchemy Expression Language tutorial.\n",
    "\n",
    "### Example 2: SQLAlchemy as a Object Relational Mapping tool\n",
    "When using an ORM, our SQL becomes even more \"object\" like, and we get to think less about the actual queries that are running. We are getting closer to a \"in-language\" database layer - but really, this is just providing an extra layer of abstraction."
   ]
  },
  {
   "cell_type": "code",
   "execution_count": null,
   "metadata": {},
   "outputs": [],
   "source": [
    "# Random SQLAlchemy magic\n",
    "from sqlalchemy.ext.declarative import declarative_base\n",
    "Base = declarative_base()\n",
    "\n",
    "# Our Movie class\n",
    "class Movie(Base):\n",
    "    __tablename__ = \"movies\"\n",
    "    id = Column(Integer, primary_key=True)\n",
    "    title = Column(String)\n",
    "    rating = Column(Float)\n",
    "    duration_minutes = Column(Integer)\n",
    "    release_date = Column(Date)\n",
    "    \n",
    "# Tell SQLAlchemy to create the table\n",
    "Base.metadata.create_all(engine)"
   ]
  },
  {
   "cell_type": "code",
   "execution_count": null,
   "metadata": {},
   "outputs": [],
   "source": [
    "# Now we can create and modify Movie objects\n",
    "from sqlalchemy.orm import sessionmaker\n",
    "Session = sessionmaker(bind=engine)\n",
    "session = Session()\n",
    "\n",
    "inception = Movie(title=\"Inception\",\n",
    "                  rating=8.8,\n",
    "                  duration_minutes=148,\n",
    "                  release_date=date(2010, 7, 16))\n",
    "interstellar = Movie(title=\"Interstellar\",\n",
    "                     rating=8.6,\n",
    "                     duration_minutes=169,\n",
    "                     release_date=date(2014, 11, 4))\n",
    "\n",
    "# Add our ORM objects to our session\n",
    "session.add(inception)\n",
    "session.add(interstellar)\n",
    "\n",
    "# Tell SQLAlchemy to commit all changes to the database\n",
    "session.commit()"
   ]
  },
  {
   "cell_type": "code",
   "execution_count": null,
   "metadata": {},
   "outputs": [],
   "source": [
    "# Queries\n",
    "# Get all movies\n",
    "for movie in session.query(Movie):\n",
    "    print movie.title, movie.id, movie.rating"
   ]
  },
  {
   "cell_type": "code",
   "execution_count": null,
   "metadata": {},
   "outputs": [],
   "source": [
    "# Get movies with rating above 8.4\n",
    "print session.query(Movie).filter(Movie.rating > 8.4)[0].title"
   ]
  },
  {
   "cell_type": "markdown",
   "metadata": {},
   "source": [
    "Interested in learning more? Look [here](http://docs.sqlalchemy.org/en/rel_1_1/orm/tutorial.html) for a good SQLAlchemy ORM tutorial.\n",
    "\n",
    "### Example 3: Pandas for SQL"
   ]
  },
  {
   "cell_type": "code",
   "execution_count": null,
   "metadata": {},
   "outputs": [],
   "source": [
    "import pandas as pd\n",
    "\n",
    "# Read in a CSV to a dataframe\n",
    "df = pd.read_csv('airplane_crashes.csv', encoding='utf-8')\n",
    "\n",
    "# Export a dataframe to a SQL table\n",
    "df.to_sql('airplane_crashes', connection, if_exists='replace')"
   ]
  },
  {
   "cell_type": "code",
   "execution_count": null,
   "metadata": {},
   "outputs": [],
   "source": [
    "# Load a SQL table into a dataframe\n",
    "df_read = pd.read_sql('airplane_crashes', connection)\n",
    "df_read"
   ]
  },
  {
   "cell_type": "code",
   "execution_count": null,
   "metadata": {},
   "outputs": [],
   "source": [
    "# Execute SQL to get a dataframe\n",
    "df_read = pd.read_sql('SELECT Date, Time, Type FROM airplane_crashes', connection)\n",
    "df_read"
   ]
  },
  {
   "cell_type": "code",
   "execution_count": null,
   "metadata": {
    "collapsed": true
   },
   "outputs": [],
   "source": []
  }
 ],
 "metadata": {
  "kernelspec": {
   "display_name": "Python 2",
   "language": "python",
   "name": "python2"
  },
  "language_info": {
   "codemirror_mode": {
    "name": "ipython",
    "version": 2
   },
   "file_extension": ".py",
   "mimetype": "text/x-python",
   "name": "python",
   "nbconvert_exporter": "python",
   "pygments_lexer": "ipython2",
   "version": "2.7.13"
  }
 },
 "nbformat": 4,
 "nbformat_minor": 1
}
