{
 "cells": [
  {
   "cell_type": "markdown",
   "metadata": {},
   "source": [
    "## Dictionaries\n",
    "\n",
    "Dictionaries. also known as hashmaps in other languages, are one of the most important data structures in computer science. \n",
    "\n",
    "Dictionaries store key-value pairs. Unlike lists, dictionaries are unordered, meaning that you cannot access elements by their index like in lists. Instead, to find a value, you need to access it using it's key.\n",
    "\n",
    "Dictionaries can have multiple types for its keys and its values"
   ]
  },
  {
   "cell_type": "markdown",
   "metadata": {},
   "source": [
    "### Let us look at some basic syntax:"
   ]
  },
  {
   "cell_type": "code",
   "execution_count": 1,
   "metadata": {
    "collapsed": true
   },
   "outputs": [],
   "source": [
    "# Creating a dictionary\n",
    "my_dict = {}"
   ]
  },
  {
   "cell_type": "code",
   "execution_count": 2,
   "metadata": {
    "collapsed": true
   },
   "outputs": [],
   "source": [
    "# Alternatively,\n",
    "my_dict = {'hello': 'world', 1:True}"
   ]
  },
  {
   "cell_type": "code",
   "execution_count": 3,
   "metadata": {},
   "outputs": [],
   "source": [
    "# Adding a key-value pair to my_dict\n",
    "my_dict['key'] = 'value'"
   ]
  },
  {
   "cell_type": "code",
   "execution_count": 4,
   "metadata": {},
   "outputs": [
    {
     "data": {
      "text/plain": [
       "'value'"
      ]
     },
     "execution_count": 4,
     "metadata": {},
     "output_type": "execute_result"
    }
   ],
   "source": [
    "my_dict['key']"
   ]
  },
  {
   "cell_type": "code",
   "execution_count": 9,
   "metadata": {},
   "outputs": [
    {
     "data": {
      "text/plain": [
       "True"
      ]
     },
     "execution_count": 9,
     "metadata": {},
     "output_type": "execute_result"
    }
   ],
   "source": [
    "#Checking if a key/value is in a dictionary:\n",
    "'hello' in my_dict"
   ]
  },
  {
   "cell_type": "code",
   "execution_count": 8,
   "metadata": {},
   "outputs": [
    {
     "data": {
      "text/plain": [
       "True"
      ]
     },
     "execution_count": 8,
     "metadata": {},
     "output_type": "execute_result"
    }
   ],
   "source": [
    "'hello' in my_dict.keys()"
   ]
  },
  {
   "cell_type": "code",
   "execution_count": 7,
   "metadata": {},
   "outputs": [
    {
     "data": {
      "text/plain": [
       "True"
      ]
     },
     "execution_count": 7,
     "metadata": {},
     "output_type": "execute_result"
    }
   ],
   "source": [
    "'world' in my_dict.values()"
   ]
  },
  {
   "cell_type": "code",
   "execution_count": 10,
   "metadata": {},
   "outputs": [
    {
     "name": "stdout",
     "output_type": "stream",
     "text": [
      "the key 'hello' is in my_dict\n"
     ]
    }
   ],
   "source": [
    "#Checking if a key is in a dictionary:\n",
    "if 'hello' in my_dict:\n",
    "        print(\"the key \\'hello\\' is in my_dict\")"
   ]
  },
  {
   "cell_type": "code",
   "execution_count": 12,
   "metadata": {},
   "outputs": [
    {
     "name": "stdout",
     "output_type": "stream",
     "text": [
      "the key 'world' is not my in my_dict\n"
     ]
    }
   ],
   "source": [
    "if 'aklsdjfl' not in my_dict:\n",
    "    print(\"the key \\'world\\' is not my in my_dict\")"
   ]
  },
  {
   "cell_type": "code",
   "execution_count": 13,
   "metadata": {},
   "outputs": [
    {
     "data": {
      "text/plain": [
       "3"
      ]
     },
     "execution_count": 13,
     "metadata": {},
     "output_type": "execute_result"
    }
   ],
   "source": [
    "# How many elements are in my dictionary\n",
    "len(my_dict)"
   ]
  },
  {
   "cell_type": "code",
   "execution_count": 14,
   "metadata": {},
   "outputs": [
    {
     "name": "stdout",
     "output_type": "stream",
     "text": [
      "1 : True\n",
      "key : value\n",
      "hello : world\n"
     ]
    }
   ],
   "source": [
    "# Iterating over a dictionary\n",
    "for key in my_dict:\n",
    "        print( str(key) + \" : \" + str(my_dict[key]))"
   ]
  },
  {
   "cell_type": "code",
   "execution_count": 15,
   "metadata": {},
   "outputs": [
    {
     "name": "stdout",
     "output_type": "stream",
     "text": [
      "1 : True\n",
      "key : value\n",
      "hello : world\n"
     ]
    }
   ],
   "source": [
    "for key, value in my_dict.items():\n",
    "    print(str(key) + \" : \" + str(value))"
   ]
  },
  {
   "cell_type": "code",
   "execution_count": 18,
   "metadata": {},
   "outputs": [
    {
     "ename": "KeyError",
     "evalue": "1",
     "output_type": "error",
     "traceback": [
      "\u001b[0;31m---------------------------------------------------------------------------\u001b[0m",
      "\u001b[0;31mKeyError\u001b[0m                                  Traceback (most recent call last)",
      "\u001b[0;32m<ipython-input-18-9a8381c3ee15>\u001b[0m in \u001b[0;36m<module>\u001b[0;34m()\u001b[0m\n\u001b[1;32m      1\u001b[0m \u001b[0;31m# Deleting things\u001b[0m\u001b[0;34m\u001b[0m\u001b[0;34m\u001b[0m\u001b[0m\n\u001b[0;32m----> 2\u001b[0;31m \u001b[0;32mdel\u001b[0m \u001b[0mmy_dict\u001b[0m\u001b[0;34m[\u001b[0m\u001b[0;36m1\u001b[0m\u001b[0;34m]\u001b[0m\u001b[0;34m\u001b[0m\u001b[0m\n\u001b[0m\u001b[1;32m      3\u001b[0m \u001b[0;32mdel\u001b[0m \u001b[0mmy_dict\u001b[0m\u001b[0;34m[\u001b[0m\u001b[0;34m'hello'\u001b[0m\u001b[0;34m]\u001b[0m\u001b[0;34m\u001b[0m\u001b[0m\n",
      "\u001b[0;31mKeyError\u001b[0m: 1"
     ]
    }
   ],
   "source": [
    "# Deleting things \n",
    "del my_dict[1]\n",
    "del my_dict['hello']"
   ]
  },
  {
   "cell_type": "code",
   "execution_count": 17,
   "metadata": {},
   "outputs": [
    {
     "name": "stdout",
     "output_type": "stream",
     "text": [
      "key : value\n"
     ]
    }
   ],
   "source": [
    "# Iterating again over a dictionary to prove it's empty\n",
    "for key in my_dict:\n",
    "        print( str(key) + \" : \" + str(my_dict[key]))"
   ]
  },
  {
   "cell_type": "markdown",
   "metadata": {},
   "source": [
    "### Why are dictionaries so useful?\n",
    "\n",
    "Dictionaries are one of the most efficient data structures and thus see a lot of use. \n",
    "\n",
    "Consider this, We have an array of over 1,000,000 items and we want to search through it. We can come up with an algorithm to do so but it will be slow! For a hashmap, a key-value pair lookup happens in constant time, no matter how big the hashmap is. \n",
    "\n",
    "If you are interested in how hashmaps work, CS225 has you actually implement one :)"
   ]
  },
  {
   "cell_type": "code",
   "execution_count": 20,
   "metadata": {},
   "outputs": [
    {
     "name": "stdout",
     "output_type": "stream",
     "text": [
      "[1, 2, 3, 4, 5]\n"
     ]
    }
   ],
   "source": [
    "tuple1 = (1,2)\n",
    "list1 = [1,2]\n",
    "list2 = [1,2,3,4]\n",
    "dict1 = {\n",
    "    1: list2,\n",
    "    2: list2\n",
    "}\n",
    "dict1[1].append(5)\n",
    "print(dict1[2])"
   ]
  },
  {
   "cell_type": "markdown",
   "metadata": {},
   "source": [
    "### Example Problem: Character Counts\n",
    "\n",
    "Given a string, return a dictionary that maps a character in the string to the frequency of its ocurrence in the string.\n",
    "Ex:\n",
    "Input: \"AABCCHELLO\"\n",
    "Output: {\n",
    "    'A': 2\n",
    "    'B': 1\n",
    "    'C': 2\n",
    "    'H': 1\n",
    "    'E': 1\n",
    "    'L': 2\n",
    "    'O': 1\n",
    "}\n"
   ]
  },
  {
   "cell_type": "code",
   "execution_count": 21,
   "metadata": {},
   "outputs": [],
   "source": [
    "def count_characters(input_string):\n",
    "    character_counts = {}\n",
    "    for char in input_string:\n",
    "        if char not in character_counts:\n",
    "            character_counts[char] = 1\n",
    "        else:\n",
    "            character_counts[char] += 1\n",
    "    return character_counts"
   ]
  },
  {
   "cell_type": "code",
   "execution_count": 25,
   "metadata": {},
   "outputs": [
    {
     "name": "stdout",
     "output_type": "stream",
     "text": [
      "H : 1\n",
      "C : 2\n",
      "E : 1\n",
      "A : 2\n",
      "O : 1\n",
      "L : 2\n",
      "B : 1\n"
     ]
    }
   ],
   "source": [
    "counts = count_characters(\"AABCCHELLO\")\n",
    "for num_1, num_2 in counts.items():\n",
    "    print(str(num_1) + \" : \" + str(num_2))"
   ]
  },
  {
   "cell_type": "code",
   "execution_count": null,
   "metadata": {
    "collapsed": true
   },
   "outputs": [],
   "source": []
  }
 ],
 "metadata": {
  "kernelspec": {
   "display_name": "Python 3",
   "language": "python",
   "name": "python3"
  },
  "language_info": {
   "codemirror_mode": {
    "name": "ipython",
    "version": 3
   },
   "file_extension": ".py",
   "mimetype": "text/x-python",
   "name": "python",
   "nbconvert_exporter": "python",
   "pygments_lexer": "ipython3",
   "version": "3.6.2"
  }
 },
 "nbformat": 4,
 "nbformat_minor": 2
}
